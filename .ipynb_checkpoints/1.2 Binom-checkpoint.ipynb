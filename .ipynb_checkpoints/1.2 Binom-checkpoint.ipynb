{
 "cells": [
  {
   "cell_type": "code",
   "execution_count": 11,
   "metadata": {},
   "outputs": [
    {
     "data": {
      "text/latex": [
       "$\n",
       "\\text{Бином Ньютона}\\\\\n",
       "\\;\\\\\n",
       "(x+y)^n = x^n+C^{1}_n x^{n-1}y+C^{2}_n x^{n-2}y^2+ \\ldots +C^{n-1}_n xy^{n-1}+y^n = \\sum_{k=0}^n C^{k}_n x^{n-k}y^k\n",
       "\\;\\\\\\;\\\\\\;\\\\\n",
       "(x+y+z)^n=(x+y+z)(x+y+z)\\ldots(x+y+z)\n",
       "$"
      ],
      "text/plain": [
       "<IPython.core.display.Latex object>"
      ]
     },
     "execution_count": 11,
     "metadata": {},
     "output_type": "execute_result"
    }
   ],
   "source": [
    "from IPython.display import Latex\n",
    "\n",
    "Latex(r\"\"\"$\n",
    "\\text{Бином Ньютона}\\\\\n",
    "\\;\\\\\n",
    "(x+y)^n = x^n+C^{1}_n x^{n-1}y+C^{2}_n x^{n-2}y^2+ \\ldots +C^{n-1}_n xy^{n-1}+y^n = \\sum_{k=0}^n C^{k}_n x^{n-k}y^k\n",
    "\\;\\\\\\;\\\\\\;\\\\\n",
    "(x+y+z)^n=(x+y+z)(x+y+z)\\ldots(x+y+z)\n",
    "$\"\"\")"
   ]
  }
 ],
 "metadata": {
  "kernelspec": {
   "display_name": "Python 3",
   "language": "python",
   "name": "python3"
  },
  "language_info": {
   "codemirror_mode": {
    "name": "ipython",
    "version": 3
   },
   "file_extension": ".py",
   "mimetype": "text/x-python",
   "name": "python",
   "nbconvert_exporter": "python",
   "pygments_lexer": "ipython3",
   "version": "3.6.3"
  }
 },
 "nbformat": 4,
 "nbformat_minor": 2
}
