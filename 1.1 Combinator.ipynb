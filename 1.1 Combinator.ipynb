{
 "cells": [
  {
   "cell_type": "code",
   "execution_count": 59,
   "metadata": {},
   "outputs": [
    {
     "data": {
      "text/latex": [
       "$\n",
       "C^{m}_n = \\dfrac{n!}{m!(n-m)!},\\quad \\text{число сочетаний из n объектов по m}\n",
       "\\,\\\\\\,\\\\\\,\\\\\\,\\\\\n",
       "1.1\\; C^{m}_n = C^{n-m}_n,\\\\\n",
       "\\quad C^{n-m}_n = \\dfrac{n!}{(n-m)!(n-(n - m))!} = \\dfrac{n!}{(n-m)!m!} = \\dfrac{n!}{m!(n-m)!} = C^{m}_n\n",
       "\\,\\\\\\,\\\\\n",
       "1.2\\; C^{k}_n + C^{k+1}_n = C^{k+1}_{n+1},\\\\\n",
       "\\quad C^{k}_n + C^{k+1}_n = \\dfrac{n!}{k!(n-k)!} + \\dfrac{n!}{(k+1)!(n-k-1)!} = \n",
       "                            \\dfrac{n!}{k![(n-k-1)!(n-k)]} + \\dfrac{n!}{[k!(k+1)](n-k-1)!} = \\\\\n",
       "                            \\qquad\\qquad = \\dfrac{n!(k+1) + n!(n-k)}{k!(k+1)(n-k-1)!(n-k)} = \n",
       "                            \\dfrac{n!\\cdot k + n! + n!\\cdot n - n!\\cdot k}{k!(k+1)(n-k-1)!(n-k)} = \n",
       "                            \\dfrac{n!(n+1)}{k!(k+1)(n-k)!} = C^{k+1}_{n+1}\n",
       "\\,\\\\\\,\\\\\n",
       "1.3\\; \\dfrac{n+1}{k+1}C^{k}_n = C^{k+1}_{n+1},\\quad \\text{очевидно см. конец решения 2.}\n",
       "\\,\\\\\\,\\\\\n",
       "1.4\\; kC^{k}_n = nC^{k-1}_{n-1},\\\\\n",
       "\\quad kC^{k}_n = \\dfrac{kn!}{k!(n-k)!} = \\dfrac{n\\cdot (n-1)!}{(k-1)!(n-1-(k-1))!} = nC^{k-1}_{n-1}\n",
       "\\,\\\\\\,\\\\\n",
       "2.\\; \\text{из определения.}\n",
       "\\,\\\\\\,\\\\\n",
       "3.\\; \\text{из определения.}\n",
       "\\,\\\\\\,\\\\\n",
       "4.\\; \\text{Сколько есть различных чисел в записи которых участвуют 1,1,2}, n_1=2, n_2=1\\\\\n",
       "\\quad P(n_1, n_2)=\\dfrac{(n_1+n_2)!}{n_1!n_2!} = \\dfrac{(2+1)!}{2!1!}=3\n",
       "$"
      ],
      "text/plain": [
       "<IPython.core.display.Latex object>"
      ]
     },
     "execution_count": 59,
     "metadata": {},
     "output_type": "execute_result"
    }
   ],
   "source": [
    "-"
   ]
  }
 ],
 "metadata": {
  "kernelspec": {
   "display_name": "Python 3",
   "language": "python",
   "name": "python3"
  },
  "language_info": {
   "codemirror_mode": {
    "name": "ipython",
    "version": 3
   },
   "file_extension": ".py",
   "mimetype": "text/x-python",
   "name": "python",
   "nbconvert_exporter": "python",
   "pygments_lexer": "ipython3",
   "version": "3.6.3"
  }
 },
 "nbformat": 4,
 "nbformat_minor": 2
}
